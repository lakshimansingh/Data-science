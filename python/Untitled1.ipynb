{
 "cells": [
  {
   "cell_type": "code",
   "execution_count": null,
   "id": "863f62ef-0fcc-4aab-973e-54d559241fda",
   "metadata": {},
   "outputs": [],
   "source": []
  },
  {
   "cell_type": "code",
   "execution_count": 1,
   "id": "9afa4c54-6469-4267-bd63-f223cbb54565",
   "metadata": {},
   "outputs": [
    {
     "name": "stdout",
     "output_type": "stream",
     "text": [
      "hello Data science world!!\n"
     ]
    }
   ],
   "source": [
    "print(\"hello Data science world!!\")"
   ]
  },
  {
   "cell_type": "code",
   "execution_count": 2,
   "id": "f952157b-e6ca-4b75-af0f-031ad87d65a7",
   "metadata": {},
   "outputs": [
    {
     "data": {
      "text/plain": [
       "50"
      ]
     },
     "execution_count": 2,
     "metadata": {},
     "output_type": "execute_result"
    }
   ],
   "source": [
    "24+26"
   ]
  },
  {
   "cell_type": "code",
   "execution_count": 3,
   "id": "0eceda3c-39a1-4343-8545-fecc29fb1da2",
   "metadata": {},
   "outputs": [
    {
     "data": {
      "text/plain": [
       "624"
      ]
     },
     "execution_count": 3,
     "metadata": {},
     "output_type": "execute_result"
    }
   ],
   "source": [
    "24*26"
   ]
  },
  {
   "cell_type": "code",
   "execution_count": 4,
   "id": "21ce5be2-52ad-4789-b0e4-3c996ac51ec0",
   "metadata": {},
   "outputs": [
    {
     "name": "stdout",
     "output_type": "stream",
     "text": [
      "laxman singh\n"
     ]
    }
   ],
   "source": [
    "print(\"laxman singh\")"
   ]
  },
  {
   "cell_type": "code",
   "execution_count": null,
   "id": "06df0285-9dd4-473d-82fd-c05cf2858dd9",
   "metadata": {},
   "outputs": [],
   "source": []
  }
 ],
 "metadata": {
  "kernelspec": {
   "display_name": "Python 3 (ipykernel)",
   "language": "python",
   "name": "python3"
  },
  "language_info": {
   "codemirror_mode": {
    "name": "ipython",
    "version": 3
   },
   "file_extension": ".py",
   "mimetype": "text/x-python",
   "name": "python",
   "nbconvert_exporter": "python",
   "pygments_lexer": "ipython3",
   "version": "3.11.7"
  }
 },
 "nbformat": 4,
 "nbformat_minor": 5
}
